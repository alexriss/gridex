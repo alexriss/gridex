{
 "cells": [
  {
   "cell_type": "markdown",
   "metadata": {},
   "source": [
    "# Grid_ex_ - Your Grid Spectroscopy Solution\n",
    "\n",
    "This notebook provides an example how to use the module *_gridex_* to read ASCII or binary Nanonis data. Fits of IZ and KPFM curves on a grid are demonstrated and the results are plotted in interactive graphs.\n",
    "\n",
    "## Installation\n",
    "\n",
    "Get the file \"eprex.py\" and put it into your working directory or the any python import path.\n",
    "\n",
    "Uses: numpy, scipy, matplotlib, seaborn, IPython, ipywidgets\n",
    "\n",
    "Tested with Python 3.4 and 3.5, numpy 1.10.1, scipy 0.16.0, matplotlib 1.5.0, seaborn 0.7.dev (0.6 gives some warnings, but works as well), IPython 4.0.1, ipywidgets 4.1.0\n",
    "\n",
    "_Alex Riss, 2015_"
   ]
  },
  {
   "cell_type": "code",
   "execution_count": null,
   "metadata": {
    "collapsed": false
   },
   "outputs": [],
   "source": [
    "# Import modules and initial setup.\n",
    "# The \"imp.realod\" just reloads the module and is convenient for testing (the line can be left out).\n",
    "\n",
    "%matplotlib notebook\n",
    "import gridex\n",
    "import ipywidgets\n",
    "import IPython\n",
    "import imp\n",
    "\n",
    "datasets={}\n",
    "plots={}"
   ]
  },
  {
   "cell_type": "code",
   "execution_count": null,
   "metadata": {
    "collapsed": false
   },
   "outputs": [],
   "source": [
    "# load binary data\n",
    "\n",
    "fname = 'data/name.3ds'\n",
    "datasets[fname] = gridex.GridData()\n",
    "datasets[fname].load_spectroscopy(fname)\n",
    "\n",
    "# fit IZ\n",
    "datasets[fname].fit_IZ()"
   ]
  },
  {
   "cell_type": "code",
   "execution_count": null,
   "metadata": {
    "collapsed": false,
    "scrolled": false
   },
   "outputs": [],
   "source": [
    "# plot the results\n",
    "# check out the keyboard shortcuts for the plot:\n",
    "#     \"m\", \"M\" for markers, arrow keys to move the selected point, \"i\" to toggle legend, \"g\" to toggle grid\n",
    "\n",
    "fname = 'data/name.3ds'  # repeat for testing\n",
    "\n",
    "channels = ['phi_(ev)','fit_r2','fit_sse','z_(m)','amplitude_mean_(m)','amplitude_stddev_(m)']\n",
    "plots[fname] = (gridex.PlotData(datasets[fname]))\n",
    "\n",
    "fig = plots[fname].plot_channels(channels, cmap=\"Blues_r\")\n",
    "IPython.display.display(plots[fname].plot_options())"
   ]
  },
  {
   "cell_type": "code",
   "execution_count": null,
   "metadata": {
    "collapsed": false
   },
   "outputs": [],
   "source": [
    "# load ASCII data\n",
    "\n",
    "fname = 'name_a_*.dat'\n",
    "\n",
    "datasets[fname] = gridex.GridData()\n",
    "%time datasets[fname].load_spectroscopy(fname, long_output=False)\n",
    "# fit IZ \n",
    "%time datasets[fname].fit_IZ()   # fit_IZosc() will take the oscillation amplitude into account"
   ]
  },
  {
   "cell_type": "code",
   "execution_count": null,
   "metadata": {
    "collapsed": false
   },
   "outputs": [],
   "source": [
    "# plot the results\n",
    "\n",
    "fname = 'name_a_*.dat'\n",
    "\n",
    "channels = ['phi_(ev)','fit_r2','fit_sse','phi2_(ev)','fit2_r2','fit2_sse','z_(m)','amplitude_mean_(m)','amplitude_stddev_(m)']\n",
    "plots[fname] = gridex.PlotData(datasets[fname])\n",
    "fig = plots[fname].plot_channels(channels, num_rows=3, cmap='Blues_r')   # cmap='Blues_r'\n",
    "IPython.display.display(plots[fname].plot_options())"
   ]
  },
  {
   "cell_type": "code",
   "execution_count": null,
   "metadata": {
    "collapsed": false
   },
   "outputs": [],
   "source": [
    "# load ASCII data\n",
    "\n",
    "fname = 'name_b_*.dat'\n",
    "datasets[fname] = gridex.GridData()\n",
    "datasets[fname].load_spectroscopy(fname, long_output=False)\n",
    "datasets[fname].fit_KPFM()\n"
   ]
  },
  {
   "cell_type": "code",
   "execution_count": null,
   "metadata": {
    "collapsed": false
   },
   "outputs": [],
   "source": [
    "# fit KPFM and plot the results\n",
    "\n",
    "fname = 'name_b_*.dat'\n",
    "\n",
    "channels = ['v*_(v)','df*_(hz)','fit_r2','fit_sse','amplitude_mean_(m)','amplitude_stddev_(m)']\n",
    "plots[fname] = gridex.PlotData(datasets[fname])\n",
    "fig = plots[fname].plot_channels(channels, num_rows=3, cmap='Blues_r')   # cmap='Blues'\n",
    "IPython.display.display(plots[fname].plot_options())"
   ]
  },
  {
   "cell_type": "code",
   "execution_count": null,
   "metadata": {
    "collapsed": true
   },
   "outputs": [],
   "source": []
  }
 ],
 "metadata": {
  "kernelspec": {
   "display_name": "Python 3",
   "language": "python",
   "name": "python3"
  },
  "language_info": {
   "codemirror_mode": {
    "name": "ipython",
    "version": 3
   },
   "file_extension": ".py",
   "mimetype": "text/x-python",
   "name": "python",
   "nbconvert_exporter": "python",
   "pygments_lexer": "ipython3",
   "version": "3.5.1"
  }
 },
 "nbformat": 4,
 "nbformat_minor": 0
}
